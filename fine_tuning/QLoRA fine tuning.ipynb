{
 "cells": [
  {
   "cell_type": "markdown",
   "metadata": {},
   "source": [
    "# QLoRA fine tuning\n",
    "\n",
    "* QLoRA reduces the number of trainable parameters while keeping the pre-training weights frozen.\n",
    "* This allows for more efficient fine-tuning of the model on smaller GPUs, much faster.\n"
   ]
  },
  {
   "cell_type": "code",
   "execution_count": null,
   "metadata": {},
   "outputs": [],
   "source": []
  }
 ],
 "metadata": {
  "language_info": {
   "name": "python"
  }
 },
 "nbformat": 4,
 "nbformat_minor": 2
}
