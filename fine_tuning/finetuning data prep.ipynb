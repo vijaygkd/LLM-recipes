{
 "cells": [
  {
   "cell_type": "markdown",
   "metadata": {},
   "source": [
    "# Fine-tuning data prep\n",
    "\n",
    "Explore some open-source dataset for fine-tuning a small 3B / 7B model.\n",
    "\n",
    "Topics involved:\n",
    "- Dataset download and loading\n",
    "- Preprocessing : prepare input and output based on FT objective\n",
    "- Tokenization : tokenize input and output\n",
    "- Batching : prepare batches for training\n",
    "- Train / Test split"
   ]
  },
  {
   "cell_type": "markdown",
   "metadata": {},
   "source": [
    "## Data Prep\n",
    "\n",
    "For most finetuning tasks, the dataset consists of `input` -> `output` pairs, where the `input` is the prompt and the `output` is the expected response. \n",
    "An example of this kind of dataset is the [openassistant-guanaco](https://huggingface.co/datasets/timdettmers/openassistant-guanaco?row=0) dataset where `input` is the human prompt and `output` is the assistant response.\n",
    "\n",
    "For preference tuning using DPO or RLHF tasks the dataset consists of a comparison pairs of `prompt`, `accepted_target` and `rejected_target` pairs. RLHF datasets only contain `accepted_target` and `rejected_target` pairs with the same prompt.\n",
    "\n",
    "References \n",
    "- [Transformers - Data Preparation for LLM finetuning](https://huggingface.co/docs/autotrain/en/llm_finetuning)\n",
    "- [Fine-tuning LLMs in 2024](https://www.philschmid.de/fine-tune-llms-in-2024-with-trl)\n",
    "\n",
    "\n",
    "Goal: Download a few sample datasets and print them out.\n"
   ]
  },
  {
   "cell_type": "markdown",
   "metadata": {},
   "source": [
    "1. [OpenAssistant](https://huggingface.co/datasets/timdettmers/openassistant-guanaco?row=0)"
   ]
  },
  {
   "cell_type": "code",
   "execution_count": 1,
   "metadata": {},
   "outputs": [],
   "source": [
    "from datasets import load_dataset"
   ]
  },
  {
   "cell_type": "code",
   "execution_count": 3,
   "metadata": {},
   "outputs": [
    {
     "name": "stderr",
     "output_type": "stream",
     "text": [
      "Repo card metadata block was not found. Setting CardData to empty.\n"
     ]
    },
    {
     "data": {
      "text/plain": [
       "Dataset({\n",
       "    features: ['text'],\n",
       "    num_rows: 9846\n",
       "})"
      ]
     },
     "execution_count": 3,
     "metadata": {},
     "output_type": "execute_result"
    }
   ],
   "source": [
    "oa_dataset = load_dataset(\"timdettmers/openassistant-guanaco\", split='train')\n",
    "oa_dataset"
   ]
  },
  {
   "cell_type": "code",
   "execution_count": 5,
   "metadata": {},
   "outputs": [
    {
     "data": {
      "text/plain": [
       "'### Human: Can you write a short introduction about the relevance of the term \"monopsony\" in economics? Please use examples related to potential monopsonies in the labour market and cite relevant research.### Assistant: \"Monopsony\" refers to a market structure where there is only one buyer for a particular good or service. In economics, this term is particularly relevant in the labor market, where a monopsony employer has significant power over the wages and working conditions of their employees. The presence of a monopsony can result in lower wages and reduced employment opportunities for workers, as the employer has little incentive to increase wages or provide better working conditions.\\n\\nRecent research has identified potential monopsonies in industries such as retail and fast food, where a few large companies control a significant portion of the market (Bivens & Mishel, 2013). In these industries, workers often face low wages, limited benefits, and reduced bargaining power, leading to a situation where they are dependent on the employer for their livelihood. This dependence can result in further suppression of wages and a decline in working conditions.\\n\\nOverall, the concept of monopsony is essential to understanding the dynamics of labor markets and the impact of market power on workers. Further research is needed to understand the extent and impact of monopsonies on the economy and to develop policies to address this issue.\\n\\nReferences:\\nBivens, J., & Mishel, L. (2013). The Pay of Corporate Executives and Financial Professionals as Evidence of Rents in Top 1 Percent Incomes. Journal of Economic Perspectives, 27(3), 57-78.### Human: Now explain it to a dog'"
      ]
     },
     "execution_count": 5,
     "metadata": {},
     "output_type": "execute_result"
    }
   ],
   "source": [
    "oa_dataset[0]['text']"
   ]
  },
  {
   "cell_type": "code",
   "execution_count": null,
   "metadata": {},
   "outputs": [],
   "source": []
  }
 ],
 "metadata": {
  "kernelspec": {
   "display_name": "Python 3.8 - AzureML",
   "language": "python",
   "name": "python38-azureml"
  },
  "language_info": {
   "codemirror_mode": {
    "name": "ipython",
    "version": 3
   },
   "file_extension": ".py",
   "mimetype": "text/x-python",
   "name": "python",
   "nbconvert_exporter": "python",
   "pygments_lexer": "ipython3",
   "version": "3.8.5"
  }
 },
 "nbformat": 4,
 "nbformat_minor": 2
}
